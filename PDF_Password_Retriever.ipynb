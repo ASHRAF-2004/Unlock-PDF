{
  "cells": [
    {
      "cell_type": "markdown",
      "metadata": {
        "id": "4N1mIEY18hpw"
      },
      "source": [
        "#**PDF PASSWORD FINDER**"
      ]
    },
    {
      "cell_type": "markdown",
      "metadata": {
        "id": "_4Wwa2hBwQYk"
      },
      "source": [
        "## Steps to retrieve PDF Password\n",
        "***Steps to retrieve PDF Password***\n",
        "\n",
        ">Install and Import Required Libraries\n",
        "\n",
        ">>To install the necessary libraries, click on the \"RESTART SESSION\" button. This action will prompt a restart with the required libraries.\n",
        "\n",
        ">Generate a Password Word List\n",
        "\n",
        ">>Specify the minimum and maximum password length.\n",
        "\n",
        ">>Choose from password character options: UPPERCASE, lowercase, digits & symbols.\n",
        "\n",
        ">>Optionally select specific characters for password generation.\n",
        "\n",
        "\n",
        ">>>For instance, if your password contains the combination \"ABcd123,\" insert this combination to generate the password word list.\n",
        "\n",
        ">Upload PDF File to Colab\n",
        "\n",
        ">>Navigate to the file section and upload the PDF file.\n",
        "\n",
        ">>After uploading, right-click on the file and select \"Copy path\" to copy the file path.\n",
        "\n",
        ">>Paste the copied file path into the designated pdf_file area.\n",
        "\n",
        ">Run the PDF Password Finding Section\n",
        "\n",
        ">>Execute the PDF password finding section to retrieve the password.\n",
        "\n",
        ".\n",
        "\n",
        "Note: This process involves attempting to open the PDF with various\n",
        "combinations of passwords from the generated wordlist. Please be aware that complex passwords may require more time to retrieve.\n",
        "_______________________________________________________________________________\n",
        "________________________________________________\n",
        "_______________________________________\n"
      ]
    },
    {
      "cell_type": "markdown",
      "metadata": {
        "id": "hOo6GeuL7mz-"
      },
      "source": [
        "## STEP 1: Installing Libraries"
      ]
    },
    {
      "cell_type": "code",
      "execution_count": 1,
      "metadata": {
        "colab": {
          "base_uri": "https://localhost:8080/"
        },
        "collapsed": true,
        "id": "bLyql_q94xig",
        "outputId": "3c399907-2968-4016-9013-6499bb58f5e6"
      },
      "outputs": [
        {
          "name": "stdout",
          "output_type": "stream",
          "text": [
            "Requirement already satisfied: tqdm in c:\\users\\ashraf ali\\appdata\\local\\programs\\python\\python313\\lib\\site-packages (4.67.1)\n",
            "Requirement already satisfied: colorama in c:\\users\\ashraf ali\\appdata\\roaming\\python\\python313\\site-packages (from tqdm) (0.4.6)\n"
          ]
        }
      ],
      "source": [
        "!pip install tqdm"
      ]
    },
    {
      "cell_type": "code",
      "execution_count": 2,
      "metadata": {
        "colab": {
          "base_uri": "https://localhost:8080/",
          "height": 478
        },
        "collapsed": true,
        "id": "QlSVzWmVql--",
        "outputId": "47faacd1-1d06-4a49-e8c0-16ca118649d8"
      },
      "outputs": [
        {
          "name": "stdout",
          "output_type": "stream",
          "text": [
            "Requirement already satisfied: pikepdf in c:\\users\\ashraf ali\\appdata\\local\\programs\\python\\python313\\lib\\site-packages (9.11.0)\n",
            "Requirement already satisfied: colorama in c:\\users\\ashraf ali\\appdata\\roaming\\python\\python313\\site-packages (0.4.6)\n",
            "Requirement already satisfied: Pillow>=10.0.1 in c:\\users\\ashraf ali\\appdata\\local\\programs\\python\\python313\\lib\\site-packages (from pikepdf) (11.3.0)\n",
            "Requirement already satisfied: Deprecated in c:\\users\\ashraf ali\\appdata\\local\\programs\\python\\python313\\lib\\site-packages (from pikepdf) (1.2.18)\n",
            "Requirement already satisfied: lxml>=4.8 in c:\\users\\ashraf ali\\appdata\\local\\programs\\python\\python313\\lib\\site-packages (from pikepdf) (6.0.1)\n",
            "Requirement already satisfied: packaging in c:\\users\\ashraf ali\\appdata\\roaming\\python\\python313\\site-packages (from pikepdf) (25.0)\n",
            "Requirement already satisfied: wrapt<2,>=1.10 in c:\\users\\ashraf ali\\appdata\\local\\programs\\python\\python313\\lib\\site-packages (from Deprecated->pikepdf) (1.17.3)\n"
          ]
        }
      ],
      "source": [
        "!pip install pikepdf colorama"
      ]
    },
    {
      "cell_type": "code",
      "execution_count": 3,
      "metadata": {},
      "outputs": [
        {
          "name": "stdout",
          "output_type": "stream",
          "text": [
            "Requirement already satisfied: opencv-python-headless in c:\\users\\ashraf ali\\appdata\\local\\programs\\python\\python313\\lib\\site-packages (4.12.0.88)\n",
            "Requirement already satisfied: numpy<2.3.0,>=2 in c:\\users\\ashraf ali\\appdata\\local\\programs\\python\\python313\\lib\\site-packages (from opencv-python-headless) (2.2.6)\n"
          ]
        }
      ],
      "source": [
        "!pip install opencv-python-headless"
      ]
    },
    {
      "cell_type": "code",
      "execution_count": 4,
      "metadata": {},
      "outputs": [
        {
          "name": "stdout",
          "output_type": "stream",
          "text": [
            "Requirement already satisfied: matplotlib in c:\\users\\ashraf ali\\appdata\\local\\programs\\python\\python313\\lib\\site-packages (3.10.6)\n",
            "Requirement already satisfied: contourpy>=1.0.1 in c:\\users\\ashraf ali\\appdata\\local\\programs\\python\\python313\\lib\\site-packages (from matplotlib) (1.3.3)\n",
            "Requirement already satisfied: cycler>=0.10 in c:\\users\\ashraf ali\\appdata\\local\\programs\\python\\python313\\lib\\site-packages (from matplotlib) (0.12.1)\n",
            "Requirement already satisfied: fonttools>=4.22.0 in c:\\users\\ashraf ali\\appdata\\local\\programs\\python\\python313\\lib\\site-packages (from matplotlib) (4.59.2)\n",
            "Requirement already satisfied: kiwisolver>=1.3.1 in c:\\users\\ashraf ali\\appdata\\local\\programs\\python\\python313\\lib\\site-packages (from matplotlib) (1.4.9)\n",
            "Requirement already satisfied: numpy>=1.23 in c:\\users\\ashraf ali\\appdata\\local\\programs\\python\\python313\\lib\\site-packages (from matplotlib) (2.2.6)\n",
            "Requirement already satisfied: packaging>=20.0 in c:\\users\\ashraf ali\\appdata\\roaming\\python\\python313\\site-packages (from matplotlib) (25.0)\n",
            "Requirement already satisfied: pillow>=8 in c:\\users\\ashraf ali\\appdata\\local\\programs\\python\\python313\\lib\\site-packages (from matplotlib) (11.3.0)\n",
            "Requirement already satisfied: pyparsing>=2.3.1 in c:\\users\\ashraf ali\\appdata\\local\\programs\\python\\python313\\lib\\site-packages (from matplotlib) (3.2.4)\n",
            "Requirement already satisfied: python-dateutil>=2.7 in c:\\users\\ashraf ali\\appdata\\roaming\\python\\python313\\site-packages (from matplotlib) (2.9.0.post0)\n",
            "Requirement already satisfied: six>=1.5 in c:\\users\\ashraf ali\\appdata\\roaming\\python\\python313\\site-packages (from python-dateutil>=2.7->matplotlib) (1.17.0)\n"
          ]
        }
      ],
      "source": [
        "!pip install matplotlib"
      ]
    },
    {
      "cell_type": "markdown",
      "metadata": {
        "id": "UmtXE54Axb_1"
      },
      "source": [
        "## STEP 2: Import Libraries"
      ]
    },
    {
      "cell_type": "code",
      "execution_count": 5,
      "metadata": {
        "id": "UR-5IYe71MLM"
      },
      "outputs": [],
      "source": [
        "import itertools\n",
        "import string\n",
        "from tqdm import tqdm\n",
        "import pikepdf\n",
        "from colorama import Fore, Style\n",
        "import cv2\n",
        "import numpy as np\n",
        "import matplotlib.pyplot as plt\n",
        "\n",
        "def cv2_imshow(img, title=\"Image\", use_window=False):\n",
        "    \"\"\"\n",
        "    Display an image locally.\n",
        "    - If use_window=True: uses cv2.imshow (needs a GUI).\n",
        "    - Else: uses matplotlib (works in Jupyter/terminals).\n",
        "    You can pass a filepath (str) or a numpy array.\n",
        "    \"\"\"\n",
        "    if isinstance(img, str):\n",
        "        img = cv2.imread(img)\n",
        "\n",
        "    if img is None:\n",
        "        raise ValueError(\"Image not found or failed to load.\")\n",
        "\n",
        "    if use_window:\n",
        "        cv2.imshow(title, img)\n",
        "        cv2.waitKey(0)\n",
        "        cv2.destroyAllWindows()\n",
        "    else:\n",
        "        # Convert BGR->RGB for correct colors in Matplotlib\n",
        "        if img.ndim == 3:\n",
        "            img = cv2.cvtColor(img, cv2.COLOR_BGR2RGB)\n",
        "        plt.imshow(img, cmap=None if img.ndim == 3 else \"gray\")\n",
        "        plt.title(title)\n",
        "        plt.axis(\"off\")\n",
        "        plt.show()\n"
      ]
    },
    {
      "cell_type": "markdown",
      "metadata": {
        "id": "hd75S0du7sc2"
      },
      "source": [
        "## STEP3: Generate Pass-Word list"
      ]
    },
    {
      "cell_type": "code",
      "execution_count": null,
      "metadata": {
        "cellView": "form",
        "colab": {
          "base_uri": "https://localhost:8080/"
        },
        "id": "-QBwaJo8qHLA",
        "outputId": "d852bbac-1f7b-413c-b410-09c6ee7240ef"
      },
      "outputs": [],
      "source": [
        "\n",
        "\n",
        "def generate_wordlist(min_length, max_length, include_uppercase=True, include_lowercase=True, include_digits=True, include_special_characters=True, user_defined_characters=None):\n",
        "    # Define characters to include\n",
        "    characters = ''\n",
        "    if include_uppercase:\n",
        "        characters += string.ascii_uppercase\n",
        "    if include_lowercase:\n",
        "        characters += string.ascii_lowercase\n",
        "    if include_digits:\n",
        "        characters += string.digits\n",
        "    if include_special_characters:\n",
        "        characters += \"!@#$%^&*()_+={}[]|:;<>,.?/~\"\n",
        "    if user_defined_characters_only:\n",
        "        characters = user_defined_characters\n",
        "\n",
        "    # Generate all combinations of characters within the specified length range\n",
        "    words = []\n",
        "    total_combinations = sum(len(characters) ** length for length in range(min_length, max_length + 1))\n",
        "    with tqdm(total=total_combinations) as pbar:\n",
        "        for length in range(min_length, max_length + 1):\n",
        "            combinations = itertools.product(characters, repeat=length)\n",
        "            for combination in combinations:\n",
        "                word = ''.join(combination)\n",
        "                words.append(word)\n",
        "                pbar.update(1)\n",
        "\n",
        "    # Save words to a text file\n",
        "    with open('passwordlist.txt', 'w') as f:\n",
        "        for word in words:\n",
        "            f.write(word + '\\n')\n",
        "\n",
        "    print(\"Password-list generated successfully!\")\n",
        "    return words\n",
        "\n",
        "#@markdown ---\n",
        "#@markdown ### Password list Generator\n",
        "#@markdown Specify the Password parameters below and Run this section to generate the password list.\n",
        "min_length = 6 #@param {type:\"integer\"}\n",
        "max_length = 6 #@param {type:\"integer\"}\n",
        "include_uppercase = False #@param {type:\"boolean\"}\n",
        "include_lowercase = False #@param {type:\"boolean\"}\n",
        "include_digits = True #@param {type:\"boolean\"}\n",
        "include_special_characters = False #@param {type:\"boolean\"}\n",
        "user_defined_characters_only = False #@param {type:\"boolean\"}\n",
        "user_defined_characters = \"\" #@param {type:\"string\"}\n",
        "\n",
        "if user_defined_characters_only:\n",
        "    include_uppercase = include_lowercase = include_digits = include_special_characters = True\n",
        "\n",
        "# Generate wordlist\n",
        "generated_words = generate_wordlist(min_length, max_length, include_uppercase, include_lowercase, include_digits, include_special_characters, user_defined_characters)\n",
        "\n",
        "# Print total number of generated words\n",
        "print(\"Total number of generated passwords:\", len(generated_words))\n",
        "wordlist_file = \"passwordlist.txt\"\n",
        "#@markdown ---\n"
      ]
    },
    {
      "cell_type": "markdown",
      "metadata": {
        "id": "9HAvLrrE8G88"
      },
      "source": [
        "## STEP 4: Specify PDF file path"
      ]
    },
    {
      "cell_type": "code",
      "execution_count": 9,
      "metadata": {
        "cellView": "form",
        "colab": {
          "base_uri": "https://localhost:8080/"
        },
        "id": "z5DVIv-bq9jf",
        "outputId": "82c9d49e-b3ac-4a78-9538-5ff0694529fe"
      },
      "outputs": [
        {
          "name": "stdout",
          "output_type": "stream",
          "text": [
            "PDF File received for unlock: C:\\Users\\ASHRAF ALI\\Desktop\\Projects\\PDFPasswordUnlocker-main\\file.pdf\n"
          ]
        }
      ],
      "source": [
        "#@markdown ---\n",
        "#@markdown # PDF file path\n",
        "#@markdown ## Upload the Password protected pdf file to google colab.\n",
        "#@markdown ## .\n",
        "#@markdown After uploading, Specify the pdf file path:\n",
        "\n",
        "pdf_file = \"C:\\\\Users\\\\ASHRAF ALI\\\\Desktop\\\\Projects\\\\PDFPasswordUnlocker-main\\\\file.pdf\" #@param {type:\"string\"}\n",
        "\n",
        "# Path to the wordlist\n",
        "wordlist_file = \"C:\\\\Users\\\\ASHRAF ALI\\\\Desktop\\\\Projects\\\\PDFPasswordUnlocker-main\\\\passwordlist.txt\"\n",
        "# Print total number of generated words\n",
        "print(\"PDF File received for unlock:\", pdf_file)\n",
        "#@markdown ---"
      ]
    },
    {
      "cell_type": "markdown",
      "metadata": {
        "id": "2Crah1AQ75Pg"
      },
      "source": [
        "## STEP 5: Retrieve the PDF Password"
      ]
    },
    {
      "cell_type": "code",
      "execution_count": 11,
      "metadata": {
        "cellView": "form",
        "colab": {
          "base_uri": "https://localhost:8080/",
          "height": 134
        },
        "collapsed": true,
        "id": "jnE1PVNyuTer",
        "outputId": "a94dfcd8-3df3-4177-8d71-91c87ba8bdd0"
      },
      "outputs": [
        {
          "name": "stdout",
          "output_type": "stream",
          "text": [
            "Password found: 111999 (Tried 9 passwords)\u001b[0m\u001b[0m\u001b[32m"
          ]
        },
        {
          "data": {
            "image/png": "[encoded data removed]",
            "text/plain": [
              "<Figure size 640x480 with 1 Axes>"
            ]
          },
          "metadata": {},
          "output_type": "display_data"
        }
      ],
      "source": [
        "\n",
        "#@markdown ---\n",
        "#@markdown # Password Retrieving.\n",
        "#@markdown Run this section to find the password.\n",
        "#@markdown ---\n",
        "\n",
        "\n",
        "# Function to attempt to open the PDF with a password\n",
        "def try_password(pdf_file, password, count):\n",
        "    try:\n",
        "        with pikepdf.open(pdf_file, password=password) as pdf:\n",
        "            global text\n",
        "            print(Fore.GREEN + f\"\\rPassword found: {password} (Tried {count} passwords)\" + Style.RESET_ALL, end=\"\")\n",
        "            text = f\"Wohoo.. Your PDF Password is: {password} \"\n",
        "            return True\n",
        "    except pikepdf.PasswordError:\n",
        "        print(Fore.RED + f\"\\rIncorrect password: {password} (Tried {count} passwords)\" + Style.RESET_ALL, end=\"\")\n",
        "        text = \"Sorry,Retry with different password list \"\n",
        "        return False\n",
        "\n",
        "# Initialize password count\n",
        "count = 0\n",
        "\n",
        "# Open the wordlist file\n",
        "with open(wordlist_file, 'r') as f:\n",
        "    # Iterate through each word in the wordlist\n",
        "    for word in f:\n",
        "        # Remove newline character\n",
        "        word = word.strip()\n",
        "        # Increment password count\n",
        "        count += 1\n",
        "        # Try to open the PDF with the current word as password\n",
        "        if try_password(pdf_file, word, count):\n",
        "            break  # Stop if password is found\n",
        "\n",
        "\n",
        "#Password Show\n",
        "# Set text properties\n",
        "font = cv2.FONT_HERSHEY_SIMPLEX\n",
        "font_scale = 1\n",
        "font_thickness = 2\n",
        "background_color = (255, 255, 255)  # White\n",
        "text_color = (0, 0, 0)  # Black\n",
        "\n",
        "# Create a blank image with the desired background color\n",
        "image_width = 800\n",
        "image_height = 100\n",
        "image = 255 * np.ones((image_height, image_width, 3), dtype=np.uint8)\n",
        "image[:] = background_color\n",
        "\n",
        "# Get text size and position\n",
        "text_size = cv2.getTextSize(text, font, font_scale, font_thickness)[0]\n",
        "text_x = (image_width - text_size[0]) // 2\n",
        "text_y = (image_height + text_size[1]) // 2\n",
        "\n",
        "# Add text to the image\n",
        "cv2.putText(image, text, (text_x, text_y), font, font_scale, text_color, font_thickness)\n",
        "\n",
        "# Display the image\n",
        "cv2_imshow(image)"
      ]
    }
  ],
  "metadata": {
    "colab": {
      "provenance": []
    },
    "kernelspec": {
      "display_name": "Python 3",
      "name": "python3"
    },
    "language_info": {
      "codemirror_mode": {
        "name": "ipython",
        "version": 3
      },
      "file_extension": ".py",
      "mimetype": "text/x-python",
      "name": "python",
      "nbconvert_exporter": "python",
      "pygments_lexer": "ipython3",
      "version": "3.13.7"
    }
  },
  "nbformat": 4,
  "nbformat_minor": 0
}
